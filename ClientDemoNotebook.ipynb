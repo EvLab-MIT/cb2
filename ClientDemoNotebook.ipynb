{
 "cells": [
  {
   "cell_type": "code",
   "execution_count": 2,
   "id": "a0a38146",
   "metadata": {},
   "outputs": [],
   "source": [
    "from py_client.cb2_client import *\n",
    "\n",
    "client = Cb2Client(\"https://cerealbar2.com\")"
   ]
  },
  {
   "cell_type": "code",
   "execution_count": 3,
   "id": "c2b523c5",
   "metadata": {},
   "outputs": [
    {
     "name": "stderr",
     "output_type": "stream",
     "text": [
      "INFO:py_client.cb2_client:Connecting to https://cerealbar2.com/player_endpoint...\n",
      "INFO:py_client.cb2_client:Connected!\n"
     ]
    },
    {
     "data": {
      "text/plain": [
       "(True, '')"
      ]
     },
     "execution_count": 3,
     "metadata": {},
     "output_type": "execute_result"
    }
   ],
   "source": [
    "client.Connect()"
   ]
  },
  {
   "cell_type": "code",
   "execution_count": null,
   "id": "9783ae3b",
   "metadata": {},
   "outputs": [
    {
     "name": "stderr",
     "output_type": "stream",
     "text": [
      "INFO:py_client.cb2_client:Place in queue: 1\n"
     ]
    }
   ],
   "source": [
    "game = client.JoinGame()"
   ]
  },
  {
   "cell_type": "code",
   "execution_count": null,
   "id": "c80de736",
   "metadata": {},
   "outputs": [],
   "source": [
    "client.Reset()"
   ]
  },
  {
   "cell_type": "code",
   "execution_count": null,
   "id": "5898755f",
   "metadata": {},
   "outputs": [],
   "source": [
    "print(game.over())"
   ]
  },
  {
   "cell_type": "code",
   "execution_count": null,
   "id": "383f92bd",
   "metadata": {},
   "outputs": [],
   "source": []
  }
 ],
 "metadata": {
  "kernelspec": {
   "display_name": "venv",
   "language": "python",
   "name": "venv"
  },
  "language_info": {
   "codemirror_mode": {
    "name": "ipython",
    "version": 3
   },
   "file_extension": ".py",
   "mimetype": "text/x-python",
   "name": "python",
   "nbconvert_exporter": "python",
   "pygments_lexer": "ipython3",
   "version": "3.9.13"
  }
 },
 "nbformat": 4,
 "nbformat_minor": 5
}
